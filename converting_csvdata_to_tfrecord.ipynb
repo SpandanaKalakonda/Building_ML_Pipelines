{
  "nbformat": 4,
  "nbformat_minor": 0,
  "metadata": {
    "colab": {
      "provenance": [],
      "authorship_tag": "ABX9TyPcEcmjmlREXomUYILhIIOS",
      "include_colab_link": true
    },
    "kernelspec": {
      "name": "python3",
      "display_name": "Python 3"
    },
    "language_info": {
      "name": "python"
    }
  },
  "cells": [
    {
      "cell_type": "markdown",
      "metadata": {
        "id": "view-in-github",
        "colab_type": "text"
      },
      "source": [
        "<a href=\"https://colab.research.google.com/github/SpandanaKalakonda/Building_ML_Pipelines/blob/main/converting_csvdata_to_tfrecord.ipynb\" target=\"_parent\"><img src=\"https://colab.research.google.com/assets/colab-badge.svg\" alt=\"Open In Colab\"/></a>"
      ]
    },
    {
      "cell_type": "code",
      "source": [
        "# !pip install tfx"
      ],
      "metadata": {
        "id": "8jbRishYNwVR"
      },
      "execution_count": null,
      "outputs": []
    },
    {
      "cell_type": "code",
      "source": [
        "!git clone https://github.com/Building-ML-Pipelines/building-machine-learning-pipelines.git"
      ],
      "metadata": {
        "id": "K1EFY_uyOAyc"
      },
      "execution_count": null,
      "outputs": []
    },
    {
      "cell_type": "code",
      "source": [
        "%cd building-machine-learning-pipelines/\n",
        "!python3 utils/download_dataset.py\n",
        "%cd .."
      ],
      "metadata": {
        "id": "Jvy0Ha8xODgF"
      },
      "execution_count": null,
      "outputs": []
    },
    {
      "cell_type": "code",
      "source": [
        "import pandas as pd"
      ],
      "metadata": {
        "id": "zdrpelZuelGv"
      },
      "execution_count": 49,
      "outputs": []
    },
    {
      "cell_type": "code",
      "execution_count": 33,
      "metadata": {
        "id": "rJ2qbiR2NS2G"
      },
      "outputs": [],
      "source": [
        "import os\n",
        "import csv\n",
        "import tensorflow as tf\n",
        "from tqdm import tqdm"
      ]
    },
    {
      "cell_type": "code",
      "source": [
        "df = pd.read_csv(\"/content/building-machine-learning-pipelines/data/consumer_complaints_with_narrative.csv\")"
      ],
      "metadata": {
        "id": "YnuddLaUgT-L"
      },
      "execution_count": 50,
      "outputs": []
    },
    {
      "cell_type": "code",
      "source": [
        "df.info()"
      ],
      "metadata": {
        "colab": {
          "base_uri": "https://localhost:8080/"
        },
        "id": "5WfiHFc0gcOT",
        "outputId": "47c98d09-a9bc-4a2f-f4da-6453c8a8baf9"
      },
      "execution_count": 51,
      "outputs": [
        {
          "output_type": "stream",
          "name": "stdout",
          "text": [
            "<class 'pandas.core.frame.DataFrame'>\n",
            "RangeIndex: 66799 entries, 0 to 66798\n",
            "Data columns (total 11 columns):\n",
            " #   Column                        Non-Null Count  Dtype \n",
            "---  ------                        --------------  ----- \n",
            " 0   product                       66799 non-null  object\n",
            " 1   sub_product                   46347 non-null  object\n",
            " 2   issue                         66799 non-null  object\n",
            " 3   sub_issue                     32931 non-null  object\n",
            " 4   consumer_complaint_narrative  66799 non-null  object\n",
            " 5   company                       66799 non-null  object\n",
            " 6   state                         66613 non-null  object\n",
            " 7   zip_code                      66610 non-null  object\n",
            " 8   company_response              66799 non-null  object\n",
            " 9   timely_response               66799 non-null  object\n",
            " 10  consumer_disputed             66799 non-null  int64 \n",
            "dtypes: int64(1), object(10)\n",
            "memory usage: 5.6+ MB\n"
          ]
        }
      ]
    },
    {
      "cell_type": "code",
      "source": [
        "df['product'].value_counts()"
      ],
      "metadata": {
        "colab": {
          "base_uri": "https://localhost:8080/"
        },
        "id": "KU-bvKgziZyj",
        "outputId": "86529d3d-ae1e-4b07-8396-24e6121d2f8e"
      },
      "execution_count": 58,
      "outputs": [
        {
          "output_type": "execute_result",
          "data": {
            "text/plain": [
              "Debt collection            17552\n",
              "Mortgage                   14917\n",
              "Credit reporting           12525\n",
              "Credit card                 7927\n",
              "Bank account or service     5710\n",
              "Consumer Loan               3677\n",
              "Student loan                2128\n",
              "Prepaid card                 861\n",
              "Payday loan                  726\n",
              "Money transfers              666\n",
              "Other financial service      110\n",
              "Name: product, dtype: int64"
            ]
          },
          "metadata": {},
          "execution_count": 58
        }
      ]
    },
    {
      "cell_type": "code",
      "source": [
        "df['sub_product'].value_counts()"
      ],
      "metadata": {
        "colab": {
          "base_uri": "https://localhost:8080/"
        },
        "id": "FDsDcIHBigPs",
        "outputId": "fbf98459-1e69-4b70-d93a-cad77adde939"
      },
      "execution_count": 59,
      "outputs": [
        {
          "output_type": "execute_result",
          "data": {
            "text/plain": [
              "Conventional fixed mortgage               6638\n",
              "Other (i.e. phone, health club, etc.)     5253\n",
              "Checking account                          3819\n",
              "I do not know                             3795\n",
              "Credit card                               3517\n",
              "FHA mortgage                              2776\n",
              "Medical                                   2725\n",
              "Non-federal student loan                  2456\n",
              "Conventional adjustable mortgage (ARM)    2378\n",
              "Vehicle loan                              2064\n",
              "Payday loan                               1658\n",
              "Other mortgage                            1410\n",
              "Other bank product/service                1353\n",
              "Installment loan                          1182\n",
              "Home equity loan or line of credit         947\n",
              "VA mortgage                                639\n",
              "General purpose card                       439\n",
              "Auto                                       399\n",
              "Domestic (US) money transfer               379\n",
              "Mortgage                                   366\n",
              "Savings account                            363\n",
              "Vehicle lease                              322\n",
              "International money transfer               287\n",
              "Federal student loan                       237\n",
              "Payroll card                               160\n",
              "Reverse mortgage                           129\n",
              "(CD) Certificate of deposit                120\n",
              "Title loan                                  82\n",
              "ID prepaid card                             67\n",
              "Gift or merchant card                       63\n",
              "Cashing a check without an account          55\n",
              "Mobile wallet                               48\n",
              "Government benefit payment card             36\n",
              "Debt settlement                             32\n",
              "Other special purpose card                  31\n",
              "Check cashing                               23\n",
              "Personal line of credit                     16\n",
              "Transit card                                16\n",
              "Credit repair                               14\n",
              "Money order                                 14\n",
              "Pawn loan                                   11\n",
              "Foreign currency exchange                   10\n",
              "Travelerâs/Cashierâs checks             10\n",
              "Refund anticipation check                    7\n",
              "Electronic Benefit Transfer / EBT card       1\n",
              "Name: sub_product, dtype: int64"
            ]
          },
          "metadata": {},
          "execution_count": 59
        }
      ]
    },
    {
      "cell_type": "code",
      "source": [
        "df['issue'].value_counts()"
      ],
      "metadata": {
        "colab": {
          "base_uri": "https://localhost:8080/"
        },
        "id": "-2kNPTMAinDT",
        "outputId": "bcb6112e-458c-4fb8-bfba-5f51e54f4f80"
      },
      "execution_count": 60,
      "outputs": [
        {
          "output_type": "execute_result",
          "data": {
            "text/plain": [
              "Incorrect information on credit report      8351\n",
              "Cont'd attempts collect debt not owed       7520\n",
              "Loan servicing, payments, escrow account    6553\n",
              "Loan modification,collection,foreclosure    5162\n",
              "Disclosure verification of debt             2912\n",
              "                                            ... \n",
              "Shopping for a line of credit                  4\n",
              "Lost or stolen money order                     4\n",
              "Lender damaged or destroyed vehicle            1\n",
              "Incorrect exchange rate                        1\n",
              "Lender sold the property                       1\n",
              "Name: issue, Length: 90, dtype: int64"
            ]
          },
          "metadata": {},
          "execution_count": 60
        }
      ]
    },
    {
      "cell_type": "code",
      "source": [
        "df['sub_issue'].value_counts()"
      ],
      "metadata": {
        "colab": {
          "base_uri": "https://localhost:8080/"
        },
        "id": "knBCti1AivKv",
        "outputId": "81401a21-09b8-4f5a-e435-3d057c751536"
      },
      "execution_count": 61,
      "outputs": [
        {
          "output_type": "execute_result",
          "data": {
            "text/plain": [
              "Debt is not mine                            4558\n",
              "Information is not mine                     2660\n",
              "Account status                              2255\n",
              "Debt was paid                               1960\n",
              "Not given enough info to verify debt        1645\n",
              "                                            ... \n",
              "Contacted me instead of my attorney           32\n",
              "Receiving unwanted marketing/advertising      29\n",
              "Report shared with employer w/o consent       28\n",
              "Qualify for a better loan than offered        22\n",
              "Received marketing offer after opted out      21\n",
              "Name: sub_issue, Length: 64, dtype: int64"
            ]
          },
          "metadata": {},
          "execution_count": 61
        }
      ]
    },
    {
      "cell_type": "code",
      "source": [
        "df['consumer_complaint_narrative'][:5]"
      ],
      "metadata": {
        "colab": {
          "base_uri": "https://localhost:8080/"
        },
        "id": "quEDUXRzi14p",
        "outputId": "ee690925-234d-408d-f816-a9db2bcb754e"
      },
      "execution_count": 63,
      "outputs": [
        {
          "output_type": "execute_result",
          "data": {
            "text/plain": [
              "0    I was denied employment because of a judgment ...\n",
              "1    I have a credit card through XXXX XXXX and XXX...\n",
              "2    Almost daily phone calls from Stellar Recovery...\n",
              "3    I submitted my monthly mortgage payment to Pri...\n",
              "4    I contacted America Education Services in XX/X...\n",
              "Name: consumer_complaint_narrative, dtype: object"
            ]
          },
          "metadata": {},
          "execution_count": 63
        }
      ]
    },
    {
      "cell_type": "code",
      "source": [
        "df['company'].value_counts()"
      ],
      "metadata": {
        "colab": {
          "base_uri": "https://localhost:8080/"
        },
        "id": "740JZoNNi6pi",
        "outputId": "b2365bd9-281f-4e8a-84a0-4d4dbebe813b"
      },
      "execution_count": 65,
      "outputs": [
        {
          "output_type": "execute_result",
          "data": {
            "text/plain": [
              "Equifax                                   4195\n",
              "Experian                                  3933\n",
              "TransUnion Intermediate Holdings, Inc.    3863\n",
              "Bank of America                           3497\n",
              "Wells Fargo & Company                     3074\n",
              "                                          ... \n",
              "Bristlecone, Inc.                            1\n",
              "DAS Acquisition Company, LLC                 1\n",
              "Skopos Financial, LLC                        1\n",
              "Locate Services LLC                          1\n",
              "JBS Finance, Inc.                            1\n",
              "Name: company, Length: 2296, dtype: int64"
            ]
          },
          "metadata": {},
          "execution_count": 65
        }
      ]
    },
    {
      "cell_type": "code",
      "source": [
        "df['state'].value_counts()[:5]"
      ],
      "metadata": {
        "colab": {
          "base_uri": "https://localhost:8080/"
        },
        "id": "rsWrQESFjEnx",
        "outputId": "55610e6b-c0c7-4aed-d2c9-19fe9d9e4d55"
      },
      "execution_count": 69,
      "outputs": [
        {
          "output_type": "execute_result",
          "data": {
            "text/plain": [
              "CA    9981\n",
              "FL    5956\n",
              "TX    5700\n",
              "NY    3817\n",
              "GA    3111\n",
              "Name: state, dtype: int64"
            ]
          },
          "metadata": {},
          "execution_count": 69
        }
      ]
    },
    {
      "cell_type": "code",
      "source": [
        "df['company_response'].value_counts()"
      ],
      "metadata": {
        "colab": {
          "base_uri": "https://localhost:8080/"
        },
        "id": "TUi4XRlbjWP9",
        "outputId": "9ee96d14-0bc5-495a-b2ab-4720832dd5e1"
      },
      "execution_count": 71,
      "outputs": [
        {
          "output_type": "execute_result",
          "data": {
            "text/plain": [
              "Closed with explanation            50921\n",
              "Closed with non-monetary relief     8607\n",
              "Closed with monetary relief         4974\n",
              "Closed                              1766\n",
              "Untimely response                    531\n",
              "Name: company_response, dtype: int64"
            ]
          },
          "metadata": {},
          "execution_count": 71
        }
      ]
    },
    {
      "cell_type": "code",
      "source": [
        "df['timely_response'].value_counts()"
      ],
      "metadata": {
        "colab": {
          "base_uri": "https://localhost:8080/"
        },
        "id": "ACPGCHmJjcxa",
        "outputId": "5965ab18-0d1b-4a95-b2dc-fe9cc5732563"
      },
      "execution_count": 72,
      "outputs": [
        {
          "output_type": "execute_result",
          "data": {
            "text/plain": [
              "Yes    64631\n",
              "No      2168\n",
              "Name: timely_response, dtype: int64"
            ]
          },
          "metadata": {},
          "execution_count": 72
        }
      ]
    },
    {
      "cell_type": "code",
      "source": [
        "df['consumer_disputed'].value_counts()"
      ],
      "metadata": {
        "colab": {
          "base_uri": "https://localhost:8080/"
        },
        "id": "9quVag2wglx6",
        "outputId": "3dae787c-ad44-4d36-88bf-88487d4fc8aa"
      },
      "execution_count": 56,
      "outputs": [
        {
          "output_type": "execute_result",
          "data": {
            "text/plain": [
              "0    51224\n",
              "1    15575\n",
              "Name: consumer_disputed, dtype: int64"
            ]
          },
          "metadata": {},
          "execution_count": 56
        }
      ]
    },
    {
      "cell_type": "code",
      "source": [
        "df[\"zip_code\"].value_counts()"
      ],
      "metadata": {
        "colab": {
          "base_uri": "https://localhost:8080/"
        },
        "id": "J0sHONGPgeJ4",
        "outputId": "847e5ca2-336d-4dba-c596-7601833613b6"
      },
      "execution_count": 52,
      "outputs": [
        {
          "output_type": "execute_result",
          "data": {
            "text/plain": [
              "300XX    1026\n",
              "750XX     792\n",
              "770XX     747\n",
              "900XX     719\n",
              "945XX     703\n",
              "         ... \n",
              "893XX       1\n",
              "205XX       1\n",
              "792XX       1\n",
              "556XX       1\n",
              "584XX       1\n",
              "Name: zip_code, Length: 904, dtype: int64"
            ]
          },
          "metadata": {},
          "execution_count": 52
        }
      ]
    },
    {
      "cell_type": "code",
      "source": [
        "def _bytes_feature(value):\n",
        "  return tf.train.Feature(bytes_list=tf.train.BytesList(value=[value.encode()]))"
      ],
      "metadata": {
        "id": "3llj0RseX1qa"
      },
      "execution_count": 44,
      "outputs": []
    },
    {
      "cell_type": "code",
      "source": [
        "def _float_feature(value):\n",
        "  return tf.train.Feature(float_list=tf.train.FloatList(value=[value]))"
      ],
      "metadata": {
        "id": "wVGvY87UaHI0"
      },
      "execution_count": 35,
      "outputs": []
    },
    {
      "cell_type": "code",
      "source": [
        "def _int64_feature(value):\n",
        "  return tf.train.Feature(int64_list=tf.train.Int64List(value=[value]))"
      ],
      "metadata": {
        "id": "Z_jMAbw6aV06"
      },
      "execution_count": 54,
      "outputs": []
    },
    {
      "cell_type": "code",
      "source": [
        "def clean_rows(row):\n",
        "  if not row[\"zip_code\"]:\n",
        "    row[\"zip_code\"] = \"99999\"\n",
        "  return row"
      ],
      "metadata": {
        "id": "NistqPeQe900"
      },
      "execution_count": 40,
      "outputs": []
    },
    {
      "cell_type": "code",
      "source": [
        "def convert_zipcode_to_int(zipcode):\n",
        "  if isinstance(zipcode, str) and \"XX\" in zipcode:\n",
        "    zipcode = zipcode.replace(\"XX\", \"00\")\n",
        "  int_zipcode = int(zipcode)\n",
        "  return int_zipcode"
      ],
      "metadata": {
        "id": "61gpverKfTG6"
      },
      "execution_count": 47,
      "outputs": []
    },
    {
      "cell_type": "code",
      "source": [
        "original_data_file = \"/content/building-machine-learning-pipelines/data/consumer_complaints_with_narrative.csv\"\n",
        "tfrecord_filename = \"consumer_complaints.tfrecord\"\n",
        "tf_record_writer = tf.io.TFRecordWriter(tfrecord_filename)"
      ],
      "metadata": {
        "id": "RiJMygcYaiiy"
      },
      "execution_count": 42,
      "outputs": []
    },
    {
      "cell_type": "code",
      "source": [
        "with open(original_data_file) as csv_file:\n",
        "  reader = csv.DictReader(csv_file, delimiter=\",\", quotechar='\"')\n",
        "  for row in tqdm(reader):\n",
        "    row = clean_rows(row)\n",
        "    example = tf.train.Example(\n",
        "        features=tf.train.Features(\n",
        "            feature={\n",
        "                \"product\": _bytes_feature(row[\"product\"]),\n",
        "                \"sub_product\": _bytes_feature(row[\"sub_product\"]),\n",
        "                \"issue\": _bytes_feature(row[\"issue\"]),\n",
        "                \"sub_issue\": _bytes_feature(row[\"sub_issue\"]),\n",
        "                \"state\": _bytes_feature(row[\"state\"]),\n",
        "                \"zip_code\": _int64_feature(convert_zipcode_to_int(row[\"zip_code\"])),\n",
        "                \"company\": _bytes_feature(row[\"company\"]),\n",
        "                \"company_response\": _bytes_feature(row[\"company_response\"]),\n",
        "                \"consumer_complaint_narrative\": _bytes_feature(row[\"consumer_complaint_narrative\"]),\n",
        "                \"timely_response\": _bytes_feature(row[\"timely_response\"]),\n",
        "                \"consumer_disputed\": _bytes_feature(row[\"consumer_disputed\"]),\n",
        "            }\n",
        "        )\n",
        "        )\n",
        "    tf_record_writer.write(example.SerializeToString())\n",
        "  tf_record_writer.close()"
      ],
      "metadata": {
        "colab": {
          "base_uri": "https://localhost:8080/"
        },
        "id": "ZjRgo7T9bLka",
        "outputId": "1248530f-8288-40d4-9cb0-7abf4fea26ac"
      },
      "execution_count": 55,
      "outputs": [
        {
          "output_type": "stream",
          "name": "stderr",
          "text": [
            "66799it [00:11, 5827.17it/s]\n"
          ]
        }
      ]
    },
    {
      "cell_type": "code",
      "source": [],
      "metadata": {
        "id": "tGuDPucwiKDc"
      },
      "execution_count": null,
      "outputs": []
    }
  ]
}