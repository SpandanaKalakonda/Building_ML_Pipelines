{
  "nbformat": 4,
  "nbformat_minor": 0,
  "metadata": {
    "colab": {
      "provenance": [],
      "gpuType": "T4",
      "authorship_tag": "ABX9TyOOPuIblLZIIR2iNUoEQ9ey",
      "include_colab_link": true
    },
    "kernelspec": {
      "name": "python3",
      "display_name": "Python 3"
    },
    "language_info": {
      "name": "python"
    },
    "accelerator": "GPU"
  },
  "cells": [
    {
      "cell_type": "markdown",
      "metadata": {
        "id": "view-in-github",
        "colab_type": "text"
      },
      "source": [
        "<a href=\"https://colab.research.google.com/github/SpandanaKalakonda/Building_ML_Pipelines/blob/main/counting_words_using_apache_beam.ipynb\" target=\"_parent\"><img src=\"https://colab.research.google.com/assets/colab-badge.svg\" alt=\"Open In Colab\"/></a>"
      ]
    },
    {
      "cell_type": "code",
      "execution_count": 19,
      "metadata": {
        "id": "MnZSwqtWVwXD"
      },
      "outputs": [],
      "source": [
        "!pip install apache-beam"
      ]
    },
    {
      "cell_type": "code",
      "source": [
        "import re\n",
        "import apache_beam as beam\n",
        "from apache_beam.io import ReadFromText\n",
        "from apache_beam.io import WriteToText\n",
        "from apache_beam.options.pipeline_options import PipelineOptions\n",
        "from apache_beam.options.pipeline_options import SetupOptions"
      ],
      "metadata": {
        "id": "MyvOxSTOYveA"
      },
      "execution_count": 20,
      "outputs": []
    },
    {
      "cell_type": "code",
      "source": [
        "input_file = \"/content/kinglear.txt\"\n",
        "output_file = \"/content/output.txt\""
      ],
      "metadata": {
        "id": "sezfGSkDaDTT"
      },
      "execution_count": 21,
      "outputs": []
    },
    {
      "cell_type": "code",
      "source": [
        "pipeline_options = PipelineOptions()"
      ],
      "metadata": {
        "id": "UHnlq2zxakGx"
      },
      "execution_count": 22,
      "outputs": []
    },
    {
      "cell_type": "code",
      "source": [
        "with beam.Pipeline(options = pipeline_options) as p:\n",
        "  lines = (\n",
        "  p\n",
        "  | beam.io.ReadFromText(input_file , coder=beam.coders.BytesCoder())\n",
        "  )\n",
        "  decoded_lines = lines | beam.Map(lambda line: line.decode('utf-8'))\n",
        "  counts = (\n",
        "    decoded_lines\n",
        "    | 'Split' >> beam.FlatMap(lambda x: re.findall(r'[A-Za-z\\']+', x))\n",
        "    | 'PairWithOne' >> beam.Map(lambda x: (x,1))\n",
        "    | 'GroupAndSum' >> beam.CombinePerKey(sum)\n",
        "    )\n",
        "\n",
        "  def format_result(word_count):\n",
        "    \"\"\"Convert tuples (token, count) into a string\"\"\"\n",
        "    (word, count) = word_count\n",
        "    return \"{}: {}\".format(word, count)\n",
        "\n",
        "  output = counts | 'Format' >> beam.Map(format_result)\n",
        "\n",
        "  output | WriteToText(output_file)\n"
      ],
      "metadata": {
        "colab": {
          "base_uri": "https://localhost:8080/"
        },
        "id": "knYqIo9XapnK",
        "outputId": "506952d5-a406-4112-bb60-b6a42ecfc05c"
      },
      "execution_count": 23,
      "outputs": [
        {
          "output_type": "stream",
          "name": "stderr",
          "text": [
            "WARNING:apache_beam.options.pipeline_options:Discarding unparseable args: ['-f', '/root/.local/share/jupyter/runtime/kernel-025a4af3-262f-489b-8176-7accac8ebb57.json']\n",
            "WARNING:apache_beam.options.pipeline_options:Discarding unparseable args: ['-f', '/root/.local/share/jupyter/runtime/kernel-025a4af3-262f-489b-8176-7accac8ebb57.json']\n",
            "WARNING:apache_beam.io.filebasedsink:Deleting 1 existing files in target path matching: -*-of-%(num_shards)05d\n"
          ]
        }
      ]
    }
  ]
}